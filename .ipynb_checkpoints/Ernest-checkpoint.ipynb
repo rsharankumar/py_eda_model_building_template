{
 "cells": [
  {
   "cell_type": "code",
   "execution_count": 197,
   "metadata": {
    "collapsed": true
   },
   "outputs": [],
   "source": [
    "import pandas as pd\n",
    "import matplotlib.pyplot as plt\n",
    "from datetime import datetime\n",
    "import numpy as np\n",
    "from patsy import dmatrices\n",
    "from sklearn.model_selection import train_test_split\n",
    "import sklearn.ensemble as ske\n",
    "from sklearn.svm import SVR\n",
    "import pickle\n",
    "from sklearn.metrics import r2_score, mean_absolute_error, mean_squared_error\n",
    "%matplotlib inline"
   ]
  },
  {
   "cell_type": "code",
   "execution_count": 148,
   "metadata": {},
   "outputs": [
    {
     "data": {
      "text/html": [
       "<div>\n",
       "<style scoped>\n",
       "    .dataframe tbody tr th:only-of-type {\n",
       "        vertical-align: middle;\n",
       "    }\n",
       "\n",
       "    .dataframe tbody tr th {\n",
       "        vertical-align: top;\n",
       "    }\n",
       "\n",
       "    .dataframe thead th {\n",
       "        text-align: right;\n",
       "    }\n",
       "</style>\n",
       "<table border=\"1\" class=\"dataframe\">\n",
       "  <thead>\n",
       "    <tr style=\"text-align: right;\">\n",
       "      <th></th>\n",
       "      <th>Unnamed: 0</th>\n",
       "      <th>age at death</th>\n",
       "      <th>breed</th>\n",
       "      <th>date of last vet visit</th>\n",
       "      <th>hair length</th>\n",
       "      <th>height</th>\n",
       "      <th>number of vet visits</th>\n",
       "      <th>weight</th>\n",
       "    </tr>\n",
       "  </thead>\n",
       "  <tbody>\n",
       "    <tr>\n",
       "      <th>0</th>\n",
       "      <td>0</td>\n",
       "      <td>7.0</td>\n",
       "      <td>Siamese</td>\n",
       "      <td>2009-08-02 14:02:18</td>\n",
       "      <td>0.883886</td>\n",
       "      <td>21.611951</td>\n",
       "      <td>5</td>\n",
       "      <td>4.0</td>\n",
       "    </tr>\n",
       "    <tr>\n",
       "      <th>1</th>\n",
       "      <td>1</td>\n",
       "      <td>9.0</td>\n",
       "      <td>Siamese</td>\n",
       "      <td>2013-11-27 19:08:52</td>\n",
       "      <td>1.221535</td>\n",
       "      <td>26.451956</td>\n",
       "      <td>10</td>\n",
       "      <td>4.0</td>\n",
       "    </tr>\n",
       "    <tr>\n",
       "      <th>2</th>\n",
       "      <td>2</td>\n",
       "      <td>8.0</td>\n",
       "      <td>Manx</td>\n",
       "      <td>2016-01-12 04:39:24</td>\n",
       "      <td>0.967718</td>\n",
       "      <td>18.540191</td>\n",
       "      <td>10</td>\n",
       "      <td>5.0</td>\n",
       "    </tr>\n",
       "    <tr>\n",
       "      <th>3</th>\n",
       "      <td>3</td>\n",
       "      <td>8.0</td>\n",
       "      <td>Maine Coon</td>\n",
       "      <td>2000-11-24 18:51:18</td>\n",
       "      <td>1.090641</td>\n",
       "      <td>16.564362</td>\n",
       "      <td>12</td>\n",
       "      <td>7.0</td>\n",
       "    </tr>\n",
       "    <tr>\n",
       "      <th>4</th>\n",
       "      <td>4</td>\n",
       "      <td>8.0</td>\n",
       "      <td>Maine Coon</td>\n",
       "      <td>2014-07-03 22:17:26</td>\n",
       "      <td>1.004712</td>\n",
       "      <td>22.535495</td>\n",
       "      <td>7</td>\n",
       "      <td>7.0</td>\n",
       "    </tr>\n",
       "  </tbody>\n",
       "</table>\n",
       "</div>"
      ],
      "text/plain": [
       "   Unnamed: 0  age at death       breed date of last vet visit  hair length  \\\n",
       "0           0           7.0     Siamese    2009-08-02 14:02:18     0.883886   \n",
       "1           1           9.0     Siamese    2013-11-27 19:08:52     1.221535   \n",
       "2           2           8.0        Manx    2016-01-12 04:39:24     0.967718   \n",
       "3           3           8.0  Maine Coon    2000-11-24 18:51:18     1.090641   \n",
       "4           4           8.0  Maine Coon    2014-07-03 22:17:26     1.004712   \n",
       "\n",
       "      height  number of vet visits  weight  \n",
       "0  21.611951                     5     4.0  \n",
       "1  26.451956                    10     4.0  \n",
       "2  18.540191                    10     5.0  \n",
       "3  16.564362                    12     7.0  \n",
       "4  22.535495                     7     7.0  "
      ]
     },
     "execution_count": 148,
     "metadata": {},
     "output_type": "execute_result"
    }
   ],
   "source": [
    "# Reading dataset\n",
    "data = pd.read_csv('cats.csv')\n",
    "# Printing the top 3 rows\n",
    "data.head()"
   ]
  },
  {
   "cell_type": "code",
   "execution_count": 149,
   "metadata": {},
   "outputs": [
    {
     "data": {
      "text/plain": [
       "(300, 8)"
      ]
     },
     "execution_count": 149,
     "metadata": {},
     "output_type": "execute_result"
    }
   ],
   "source": [
    "data.shape"
   ]
  },
  {
   "cell_type": "code",
   "execution_count": 150,
   "metadata": {
    "collapsed": true
   },
   "outputs": [],
   "source": [
    "data.loc[data['date of last vet visit'] == '2107-07-20 00:54:19', 'date of last vet visit'] = '2017-07-20 00:54:19'"
   ]
  },
  {
   "cell_type": "code",
   "execution_count": 151,
   "metadata": {
    "collapsed": true
   },
   "outputs": [],
   "source": [
    "newdate = pd.DataFrame(columns=[\"dt1\",\"dt2\"])\n",
    "# Convert the column 'date of last vet visit' from string to the datetime format\n",
    "newdate['dt1'] =  pd.to_datetime(data['date of last vet visit'], format='%Y-%m-%d %H:%M:%S', errors='coerce')\n"
   ]
  },
  {
   "cell_type": "code",
   "execution_count": 152,
   "metadata": {
    "collapsed": true
   },
   "outputs": [],
   "source": [
    "newdate['dt2'] =  pd.to_datetime(data['date of last vet visit'], format='%Y-%d-%m %H:%M:%S', errors='coerce')\n"
   ]
  },
  {
   "cell_type": "code",
   "execution_count": 153,
   "metadata": {
    "collapsed": true
   },
   "outputs": [],
   "source": [
    "newdate['dt2'] = np.where(newdate.dt2.isnull(), newdate.dt1, newdate.dt2) \n",
    "data['date of last vet visit'] = newdate['dt2']"
   ]
  },
  {
   "cell_type": "code",
   "execution_count": 154,
   "metadata": {},
   "outputs": [
    {
     "data": {
      "text/html": [
       "<div>\n",
       "<style scoped>\n",
       "    .dataframe tbody tr th:only-of-type {\n",
       "        vertical-align: middle;\n",
       "    }\n",
       "\n",
       "    .dataframe tbody tr th {\n",
       "        vertical-align: top;\n",
       "    }\n",
       "\n",
       "    .dataframe thead th {\n",
       "        text-align: right;\n",
       "    }\n",
       "</style>\n",
       "<table border=\"1\" class=\"dataframe\">\n",
       "  <thead>\n",
       "    <tr style=\"text-align: right;\">\n",
       "      <th></th>\n",
       "      <th>Unnamed: 0</th>\n",
       "      <th>age at death</th>\n",
       "      <th>breed</th>\n",
       "      <th>date of last vet visit</th>\n",
       "      <th>hair length</th>\n",
       "      <th>height</th>\n",
       "      <th>number of vet visits</th>\n",
       "      <th>weight</th>\n",
       "    </tr>\n",
       "  </thead>\n",
       "  <tbody>\n",
       "    <tr>\n",
       "      <th>0</th>\n",
       "      <td>0</td>\n",
       "      <td>7.0</td>\n",
       "      <td>Siamese</td>\n",
       "      <td>2009-02-08 14:02:18</td>\n",
       "      <td>0.883886</td>\n",
       "      <td>21.611951</td>\n",
       "      <td>5</td>\n",
       "      <td>4.0</td>\n",
       "    </tr>\n",
       "    <tr>\n",
       "      <th>1</th>\n",
       "      <td>1</td>\n",
       "      <td>9.0</td>\n",
       "      <td>Siamese</td>\n",
       "      <td>2013-11-27 19:08:52</td>\n",
       "      <td>1.221535</td>\n",
       "      <td>26.451956</td>\n",
       "      <td>10</td>\n",
       "      <td>4.0</td>\n",
       "    </tr>\n",
       "    <tr>\n",
       "      <th>2</th>\n",
       "      <td>2</td>\n",
       "      <td>8.0</td>\n",
       "      <td>Manx</td>\n",
       "      <td>2016-12-01 04:39:24</td>\n",
       "      <td>0.967718</td>\n",
       "      <td>18.540191</td>\n",
       "      <td>10</td>\n",
       "      <td>5.0</td>\n",
       "    </tr>\n",
       "    <tr>\n",
       "      <th>3</th>\n",
       "      <td>3</td>\n",
       "      <td>8.0</td>\n",
       "      <td>Maine Coon</td>\n",
       "      <td>2000-11-24 18:51:18</td>\n",
       "      <td>1.090641</td>\n",
       "      <td>16.564362</td>\n",
       "      <td>12</td>\n",
       "      <td>7.0</td>\n",
       "    </tr>\n",
       "    <tr>\n",
       "      <th>4</th>\n",
       "      <td>4</td>\n",
       "      <td>8.0</td>\n",
       "      <td>Maine Coon</td>\n",
       "      <td>2014-03-07 22:17:26</td>\n",
       "      <td>1.004712</td>\n",
       "      <td>22.535495</td>\n",
       "      <td>7</td>\n",
       "      <td>7.0</td>\n",
       "    </tr>\n",
       "  </tbody>\n",
       "</table>\n",
       "</div>"
      ],
      "text/plain": [
       "   Unnamed: 0  age at death       breed date of last vet visit  hair length  \\\n",
       "0           0           7.0     Siamese    2009-02-08 14:02:18     0.883886   \n",
       "1           1           9.0     Siamese    2013-11-27 19:08:52     1.221535   \n",
       "2           2           8.0        Manx    2016-12-01 04:39:24     0.967718   \n",
       "3           3           8.0  Maine Coon    2000-11-24 18:51:18     1.090641   \n",
       "4           4           8.0  Maine Coon    2014-03-07 22:17:26     1.004712   \n",
       "\n",
       "      height  number of vet visits  weight  \n",
       "0  21.611951                     5     4.0  \n",
       "1  26.451956                    10     4.0  \n",
       "2  18.540191                    10     5.0  \n",
       "3  16.564362                    12     7.0  \n",
       "4  22.535495                     7     7.0  "
      ]
     },
     "execution_count": 154,
     "metadata": {},
     "output_type": "execute_result"
    }
   ],
   "source": [
    "data.head()"
   ]
  },
  {
   "cell_type": "code",
   "execution_count": 155,
   "metadata": {
    "collapsed": true
   },
   "outputs": [],
   "source": [
    "data.columns = data.columns.str.replace('\\s+', '_')"
   ]
  },
  {
   "cell_type": "code",
   "execution_count": 156,
   "metadata": {},
   "outputs": [
    {
     "data": {
      "text/plain": [
       "Index(['Unnamed:_0', 'age_at_death', 'breed', 'date_of_last_vet_visit',\n",
       "       'hair_length', 'height', 'number_of_vet_visits', 'weight'],\n",
       "      dtype='object')"
      ]
     },
     "execution_count": 156,
     "metadata": {},
     "output_type": "execute_result"
    }
   ],
   "source": [
    "data.columns"
   ]
  },
  {
   "cell_type": "code",
   "execution_count": 157,
   "metadata": {
    "collapsed": true
   },
   "outputs": [],
   "source": [
    "data.loc[data[\"number_of_vet_visits\"] < 0, \"number_of_vet_visits\"] = 0"
   ]
  },
  {
   "cell_type": "code",
   "execution_count": 158,
   "metadata": {},
   "outputs": [
    {
     "data": {
      "text/plain": [
       "(300, 8)"
      ]
     },
     "execution_count": 158,
     "metadata": {},
     "output_type": "execute_result"
    }
   ],
   "source": [
    "data.shape"
   ]
  },
  {
   "cell_type": "code",
   "execution_count": 159,
   "metadata": {
    "collapsed": true
   },
   "outputs": [],
   "source": [
    "data = data.dropna()"
   ]
  },
  {
   "cell_type": "code",
   "execution_count": 160,
   "metadata": {},
   "outputs": [
    {
     "data": {
      "text/plain": [
       "(298, 8)"
      ]
     },
     "execution_count": 160,
     "metadata": {},
     "output_type": "execute_result"
    }
   ],
   "source": [
    "data.shape"
   ]
  },
  {
   "cell_type": "code",
   "execution_count": 161,
   "metadata": {
    "collapsed": true
   },
   "outputs": [],
   "source": [
    "data = data[data[\"hair_length\"] < 1000]"
   ]
  },
  {
   "cell_type": "code",
   "execution_count": 162,
   "metadata": {},
   "outputs": [
    {
     "data": {
      "text/plain": [
       "(297, 8)"
      ]
     },
     "execution_count": 162,
     "metadata": {},
     "output_type": "execute_result"
    }
   ],
   "source": [
    "data.shape"
   ]
  },
  {
   "cell_type": "code",
   "execution_count": 163,
   "metadata": {},
   "outputs": [
    {
     "data": {
      "text/plain": [
       "33.0430141215"
      ]
     },
     "execution_count": 163,
     "metadata": {},
     "output_type": "execute_result"
    }
   ],
   "source": [
    "max(data[\"height\"])"
   ]
  },
  {
   "cell_type": "code",
   "execution_count": 164,
   "metadata": {
    "collapsed": true
   },
   "outputs": [],
   "source": [
    "data[\"weight\"] = data[\"weight\"].astype(int)"
   ]
  },
  {
   "cell_type": "code",
   "execution_count": 165,
   "metadata": {},
   "outputs": [
    {
     "data": {
      "text/plain": [
       "Index(['Unnamed:_0', 'age_at_death', 'breed', 'date_of_last_vet_visit',\n",
       "       'hair_length', 'height', 'number_of_vet_visits', 'weight'],\n",
       "      dtype='object')"
      ]
     },
     "execution_count": 165,
     "metadata": {},
     "output_type": "execute_result"
    }
   ],
   "source": [
    "data.columns"
   ]
  },
  {
   "cell_type": "code",
   "execution_count": 166,
   "metadata": {
    "collapsed": true
   },
   "outputs": [],
   "source": [
    "data = data[['age_at_death', 'breed', 'hair_length', 'height', \n",
    "             'number_of_vet_visits', 'weight']]"
   ]
  },
  {
   "cell_type": "code",
   "execution_count": 167,
   "metadata": {},
   "outputs": [
    {
     "data": {
      "text/html": [
       "<div>\n",
       "<style scoped>\n",
       "    .dataframe tbody tr th:only-of-type {\n",
       "        vertical-align: middle;\n",
       "    }\n",
       "\n",
       "    .dataframe tbody tr th {\n",
       "        vertical-align: top;\n",
       "    }\n",
       "\n",
       "    .dataframe thead th {\n",
       "        text-align: right;\n",
       "    }\n",
       "</style>\n",
       "<table border=\"1\" class=\"dataframe\">\n",
       "  <thead>\n",
       "    <tr style=\"text-align: right;\">\n",
       "      <th></th>\n",
       "      <th>age_at_death</th>\n",
       "      <th>breed</th>\n",
       "      <th>hair_length</th>\n",
       "      <th>height</th>\n",
       "      <th>number_of_vet_visits</th>\n",
       "      <th>weight</th>\n",
       "    </tr>\n",
       "  </thead>\n",
       "  <tbody>\n",
       "    <tr>\n",
       "      <th>0</th>\n",
       "      <td>7.0</td>\n",
       "      <td>Siamese</td>\n",
       "      <td>0.883886</td>\n",
       "      <td>21.611951</td>\n",
       "      <td>5</td>\n",
       "      <td>4</td>\n",
       "    </tr>\n",
       "    <tr>\n",
       "      <th>1</th>\n",
       "      <td>9.0</td>\n",
       "      <td>Siamese</td>\n",
       "      <td>1.221535</td>\n",
       "      <td>26.451956</td>\n",
       "      <td>10</td>\n",
       "      <td>4</td>\n",
       "    </tr>\n",
       "    <tr>\n",
       "      <th>2</th>\n",
       "      <td>8.0</td>\n",
       "      <td>Manx</td>\n",
       "      <td>0.967718</td>\n",
       "      <td>18.540191</td>\n",
       "      <td>10</td>\n",
       "      <td>5</td>\n",
       "    </tr>\n",
       "    <tr>\n",
       "      <th>3</th>\n",
       "      <td>8.0</td>\n",
       "      <td>Maine Coon</td>\n",
       "      <td>1.090641</td>\n",
       "      <td>16.564362</td>\n",
       "      <td>12</td>\n",
       "      <td>7</td>\n",
       "    </tr>\n",
       "    <tr>\n",
       "      <th>4</th>\n",
       "      <td>8.0</td>\n",
       "      <td>Maine Coon</td>\n",
       "      <td>1.004712</td>\n",
       "      <td>22.535495</td>\n",
       "      <td>7</td>\n",
       "      <td>7</td>\n",
       "    </tr>\n",
       "  </tbody>\n",
       "</table>\n",
       "</div>"
      ],
      "text/plain": [
       "   age_at_death       breed  hair_length     height  number_of_vet_visits  \\\n",
       "0           7.0     Siamese     0.883886  21.611951                     5   \n",
       "1           9.0     Siamese     1.221535  26.451956                    10   \n",
       "2           8.0        Manx     0.967718  18.540191                    10   \n",
       "3           8.0  Maine Coon     1.090641  16.564362                    12   \n",
       "4           8.0  Maine Coon     1.004712  22.535495                     7   \n",
       "\n",
       "   weight  \n",
       "0       4  \n",
       "1       4  \n",
       "2       5  \n",
       "3       7  \n",
       "4       7  "
      ]
     },
     "execution_count": 167,
     "metadata": {},
     "output_type": "execute_result"
    }
   ],
   "source": [
    "data.head()"
   ]
  },
  {
   "cell_type": "code",
   "execution_count": 168,
   "metadata": {
    "collapsed": true
   },
   "outputs": [],
   "source": [
    "breed_dummies = pd.get_dummies(data[\"breed\"], prefix=\"breed\")\n",
    "data.drop([\"breed\"],axis=1,inplace=True)\n",
    "data = data.join(breed_dummies)"
   ]
  },
  {
   "cell_type": "code",
   "execution_count": 169,
   "metadata": {},
   "outputs": [
    {
     "data": {
      "text/html": [
       "<div>\n",
       "<style scoped>\n",
       "    .dataframe tbody tr th:only-of-type {\n",
       "        vertical-align: middle;\n",
       "    }\n",
       "\n",
       "    .dataframe tbody tr th {\n",
       "        vertical-align: top;\n",
       "    }\n",
       "\n",
       "    .dataframe thead th {\n",
       "        text-align: right;\n",
       "    }\n",
       "</style>\n",
       "<table border=\"1\" class=\"dataframe\">\n",
       "  <thead>\n",
       "    <tr style=\"text-align: right;\">\n",
       "      <th></th>\n",
       "      <th>age_at_death</th>\n",
       "      <th>hair_length</th>\n",
       "      <th>height</th>\n",
       "      <th>number_of_vet_visits</th>\n",
       "      <th>weight</th>\n",
       "      <th>breed_Donald</th>\n",
       "      <th>breed_Javanese</th>\n",
       "      <th>breed_Maine Coon</th>\n",
       "      <th>breed_Manx</th>\n",
       "      <th>breed_Rex</th>\n",
       "      <th>breed_Siamese</th>\n",
       "    </tr>\n",
       "  </thead>\n",
       "  <tbody>\n",
       "    <tr>\n",
       "      <th>0</th>\n",
       "      <td>7.0</td>\n",
       "      <td>0.883886</td>\n",
       "      <td>21.611951</td>\n",
       "      <td>5</td>\n",
       "      <td>4</td>\n",
       "      <td>0</td>\n",
       "      <td>0</td>\n",
       "      <td>0</td>\n",
       "      <td>0</td>\n",
       "      <td>0</td>\n",
       "      <td>1</td>\n",
       "    </tr>\n",
       "    <tr>\n",
       "      <th>1</th>\n",
       "      <td>9.0</td>\n",
       "      <td>1.221535</td>\n",
       "      <td>26.451956</td>\n",
       "      <td>10</td>\n",
       "      <td>4</td>\n",
       "      <td>0</td>\n",
       "      <td>0</td>\n",
       "      <td>0</td>\n",
       "      <td>0</td>\n",
       "      <td>0</td>\n",
       "      <td>1</td>\n",
       "    </tr>\n",
       "    <tr>\n",
       "      <th>2</th>\n",
       "      <td>8.0</td>\n",
       "      <td>0.967718</td>\n",
       "      <td>18.540191</td>\n",
       "      <td>10</td>\n",
       "      <td>5</td>\n",
       "      <td>0</td>\n",
       "      <td>0</td>\n",
       "      <td>0</td>\n",
       "      <td>1</td>\n",
       "      <td>0</td>\n",
       "      <td>0</td>\n",
       "    </tr>\n",
       "    <tr>\n",
       "      <th>3</th>\n",
       "      <td>8.0</td>\n",
       "      <td>1.090641</td>\n",
       "      <td>16.564362</td>\n",
       "      <td>12</td>\n",
       "      <td>7</td>\n",
       "      <td>0</td>\n",
       "      <td>0</td>\n",
       "      <td>1</td>\n",
       "      <td>0</td>\n",
       "      <td>0</td>\n",
       "      <td>0</td>\n",
       "    </tr>\n",
       "    <tr>\n",
       "      <th>4</th>\n",
       "      <td>8.0</td>\n",
       "      <td>1.004712</td>\n",
       "      <td>22.535495</td>\n",
       "      <td>7</td>\n",
       "      <td>7</td>\n",
       "      <td>0</td>\n",
       "      <td>0</td>\n",
       "      <td>1</td>\n",
       "      <td>0</td>\n",
       "      <td>0</td>\n",
       "      <td>0</td>\n",
       "    </tr>\n",
       "  </tbody>\n",
       "</table>\n",
       "</div>"
      ],
      "text/plain": [
       "   age_at_death  hair_length     height  number_of_vet_visits  weight  \\\n",
       "0           7.0     0.883886  21.611951                     5       4   \n",
       "1           9.0     1.221535  26.451956                    10       4   \n",
       "2           8.0     0.967718  18.540191                    10       5   \n",
       "3           8.0     1.090641  16.564362                    12       7   \n",
       "4           8.0     1.004712  22.535495                     7       7   \n",
       "\n",
       "   breed_Donald  breed_Javanese  breed_Maine Coon  breed_Manx  breed_Rex  \\\n",
       "0             0               0                 0           0          0   \n",
       "1             0               0                 0           0          0   \n",
       "2             0               0                 0           1          0   \n",
       "3             0               0                 1           0          0   \n",
       "4             0               0                 1           0          0   \n",
       "\n",
       "   breed_Siamese  \n",
       "0              1  \n",
       "1              1  \n",
       "2              0  \n",
       "3              0  \n",
       "4              0  "
      ]
     },
     "execution_count": 169,
     "metadata": {},
     "output_type": "execute_result"
    }
   ],
   "source": [
    "data.head()"
   ]
  },
  {
   "cell_type": "code",
   "execution_count": 170,
   "metadata": {},
   "outputs": [
    {
     "data": {
      "text/plain": [
       "(297, 11)"
      ]
     },
     "execution_count": 170,
     "metadata": {},
     "output_type": "execute_result"
    }
   ],
   "source": [
    "data.shape"
   ]
  },
  {
   "cell_type": "code",
   "execution_count": 171,
   "metadata": {
    "collapsed": true
   },
   "outputs": [],
   "source": [
    "from sklearn.linear_model import LinearRegression"
   ]
  },
  {
   "cell_type": "code",
   "execution_count": 181,
   "metadata": {
    "collapsed": true
   },
   "outputs": [],
   "source": [
    "import statsmodels.api as sm"
   ]
  },
  {
   "cell_type": "code",
   "execution_count": 173,
   "metadata": {
    "collapsed": true
   },
   "outputs": [],
   "source": [
    "y = data.pop(\"age_at_death\")\n",
    "X = data"
   ]
  },
  {
   "cell_type": "code",
   "execution_count": 174,
   "metadata": {
    "collapsed": true
   },
   "outputs": [],
   "source": [
    "X_train, X_test, y_train, y_test = train_test_split(X, y, test_size=0.33, random_state=42)"
   ]
  },
  {
   "cell_type": "code",
   "execution_count": 182,
   "metadata": {
    "collapsed": true
   },
   "outputs": [],
   "source": [
    "model = sm.OLS(y_train, X_train).fit()"
   ]
  },
  {
   "cell_type": "code",
   "execution_count": 183,
   "metadata": {},
   "outputs": [
    {
     "data": {
      "text/html": [
       "<table class=\"simpletable\">\n",
       "<caption>OLS Regression Results</caption>\n",
       "<tr>\n",
       "  <th>Dep. Variable:</th>      <td>age_at_death</td>   <th>  R-squared:         </th> <td>   0.035</td>\n",
       "</tr>\n",
       "<tr>\n",
       "  <th>Model:</th>                   <td>OLS</td>       <th>  Adj. R-squared:    </th> <td>  -0.011</td>\n",
       "</tr>\n",
       "<tr>\n",
       "  <th>Method:</th>             <td>Least Squares</td>  <th>  F-statistic:       </th> <td>  0.7556</td>\n",
       "</tr>\n",
       "<tr>\n",
       "  <th>Date:</th>             <td>Fri, 11 May 2018</td> <th>  Prob (F-statistic):</th>  <td> 0.658</td> \n",
       "</tr>\n",
       "<tr>\n",
       "  <th>Time:</th>                 <td>14:39:53</td>     <th>  Log-Likelihood:    </th> <td> -492.88</td>\n",
       "</tr>\n",
       "<tr>\n",
       "  <th>No. Observations:</th>      <td>   198</td>      <th>  AIC:               </th> <td>   1006.</td>\n",
       "</tr>\n",
       "<tr>\n",
       "  <th>Df Residuals:</th>          <td>   188</td>      <th>  BIC:               </th> <td>   1039.</td>\n",
       "</tr>\n",
       "<tr>\n",
       "  <th>Df Model:</th>              <td>     9</td>      <th>                     </th>     <td> </td>   \n",
       "</tr>\n",
       "<tr>\n",
       "  <th>Covariance Type:</th>      <td>nonrobust</td>    <th>                     </th>     <td> </td>   \n",
       "</tr>\n",
       "</table>\n",
       "<table class=\"simpletable\">\n",
       "<tr>\n",
       "            <td></td>              <th>coef</th>     <th>std err</th>      <th>t</th>      <th>P>|t|</th>  <th>[0.025</th>    <th>0.975]</th>  \n",
       "</tr>\n",
       "<tr>\n",
       "  <th>hair_length</th>          <td>    2.4212</td> <td>    2.185</td> <td>    1.108</td> <td> 0.269</td> <td>   -1.888</td> <td>    6.731</td>\n",
       "</tr>\n",
       "<tr>\n",
       "  <th>height</th>               <td>   -0.0214</td> <td>    0.042</td> <td>   -0.515</td> <td> 0.607</td> <td>   -0.104</td> <td>    0.061</td>\n",
       "</tr>\n",
       "<tr>\n",
       "  <th>number_of_vet_visits</th> <td>   -0.0257</td> <td>    0.059</td> <td>   -0.433</td> <td> 0.666</td> <td>   -0.143</td> <td>    0.091</td>\n",
       "</tr>\n",
       "<tr>\n",
       "  <th>weight</th>               <td>   -0.1260</td> <td>    0.103</td> <td>   -1.223</td> <td> 0.223</td> <td>   -0.329</td> <td>    0.077</td>\n",
       "</tr>\n",
       "<tr>\n",
       "  <th>breed_Donald</th>         <td>   12.8169</td> <td>    3.610</td> <td>    3.550</td> <td> 0.000</td> <td>    5.695</td> <td>   19.939</td>\n",
       "</tr>\n",
       "<tr>\n",
       "  <th>breed_Javanese</th>       <td>    7.8412</td> <td>    2.452</td> <td>    3.197</td> <td> 0.002</td> <td>    3.004</td> <td>   12.679</td>\n",
       "</tr>\n",
       "<tr>\n",
       "  <th>breed_Maine Coon</th>     <td>    7.8987</td> <td>    2.384</td> <td>    3.313</td> <td> 0.001</td> <td>    3.195</td> <td>   12.602</td>\n",
       "</tr>\n",
       "<tr>\n",
       "  <th>breed_Manx</th>           <td>    7.7296</td> <td>    2.435</td> <td>    3.174</td> <td> 0.002</td> <td>    2.925</td> <td>   12.534</td>\n",
       "</tr>\n",
       "<tr>\n",
       "  <th>breed_Rex</th>            <td>    7.9385</td> <td>    2.420</td> <td>    3.280</td> <td> 0.001</td> <td>    3.165</td> <td>   12.712</td>\n",
       "</tr>\n",
       "<tr>\n",
       "  <th>breed_Siamese</th>        <td>    7.3850</td> <td>    2.423</td> <td>    3.048</td> <td> 0.003</td> <td>    2.606</td> <td>   12.164</td>\n",
       "</tr>\n",
       "</table>\n",
       "<table class=\"simpletable\">\n",
       "<tr>\n",
       "  <th>Omnibus:</th>       <td> 3.770</td> <th>  Durbin-Watson:     </th> <td>   2.073</td>\n",
       "</tr>\n",
       "<tr>\n",
       "  <th>Prob(Omnibus):</th> <td> 0.152</td> <th>  Jarque-Bera (JB):  </th> <td>   3.345</td>\n",
       "</tr>\n",
       "<tr>\n",
       "  <th>Skew:</th>          <td> 0.281</td> <th>  Prob(JB):          </th> <td>   0.188</td>\n",
       "</tr>\n",
       "<tr>\n",
       "  <th>Kurtosis:</th>      <td> 3.298</td> <th>  Cond. No.          </th> <td>    661.</td>\n",
       "</tr>\n",
       "</table>"
      ],
      "text/plain": [
       "<class 'statsmodels.iolib.summary.Summary'>\n",
       "\"\"\"\n",
       "                            OLS Regression Results                            \n",
       "==============================================================================\n",
       "Dep. Variable:           age_at_death   R-squared:                       0.035\n",
       "Model:                            OLS   Adj. R-squared:                 -0.011\n",
       "Method:                 Least Squares   F-statistic:                    0.7556\n",
       "Date:                Fri, 11 May 2018   Prob (F-statistic):              0.658\n",
       "Time:                        14:39:53   Log-Likelihood:                -492.88\n",
       "No. Observations:                 198   AIC:                             1006.\n",
       "Df Residuals:                     188   BIC:                             1039.\n",
       "Df Model:                           9                                         \n",
       "Covariance Type:            nonrobust                                         \n",
       "========================================================================================\n",
       "                           coef    std err          t      P>|t|      [0.025      0.975]\n",
       "----------------------------------------------------------------------------------------\n",
       "hair_length              2.4212      2.185      1.108      0.269      -1.888       6.731\n",
       "height                  -0.0214      0.042     -0.515      0.607      -0.104       0.061\n",
       "number_of_vet_visits    -0.0257      0.059     -0.433      0.666      -0.143       0.091\n",
       "weight                  -0.1260      0.103     -1.223      0.223      -0.329       0.077\n",
       "breed_Donald            12.8169      3.610      3.550      0.000       5.695      19.939\n",
       "breed_Javanese           7.8412      2.452      3.197      0.002       3.004      12.679\n",
       "breed_Maine Coon         7.8987      2.384      3.313      0.001       3.195      12.602\n",
       "breed_Manx               7.7296      2.435      3.174      0.002       2.925      12.534\n",
       "breed_Rex                7.9385      2.420      3.280      0.001       3.165      12.712\n",
       "breed_Siamese            7.3850      2.423      3.048      0.003       2.606      12.164\n",
       "==============================================================================\n",
       "Omnibus:                        3.770   Durbin-Watson:                   2.073\n",
       "Prob(Omnibus):                  0.152   Jarque-Bera (JB):                3.345\n",
       "Skew:                           0.281   Prob(JB):                        0.188\n",
       "Kurtosis:                       3.298   Cond. No.                         661.\n",
       "==============================================================================\n",
       "\n",
       "Warnings:\n",
       "[1] Standard Errors assume that the covariance matrix of the errors is correctly specified.\n",
       "\"\"\""
      ]
     },
     "execution_count": 183,
     "metadata": {},
     "output_type": "execute_result"
    }
   ],
   "source": [
    "model.summary()"
   ]
  },
  {
   "cell_type": "code",
   "execution_count": 185,
   "metadata": {
    "collapsed": true
   },
   "outputs": [],
   "source": [
    "y_pred = model.predict(X_test)"
   ]
  },
  {
   "cell_type": "code",
   "execution_count": 186,
   "metadata": {},
   "outputs": [
    {
     "data": {
      "text/plain": [
       "7.695630229787739"
      ]
     },
     "execution_count": 186,
     "metadata": {},
     "output_type": "execute_result"
    }
   ],
   "source": [
    "mean_squared_error(y_pred, y_test)"
   ]
  },
  {
   "cell_type": "code",
   "execution_count": 188,
   "metadata": {},
   "outputs": [
    {
     "data": {
      "text/plain": [
       "7.457447652733848"
      ]
     },
     "execution_count": 188,
     "metadata": {},
     "output_type": "execute_result"
    }
   ],
   "source": [
    "mean_squared_error(np.full(y_test.shape, y.mean()), y_test)"
   ]
  },
  {
   "cell_type": "code",
   "execution_count": 189,
   "metadata": {
    "collapsed": true
   },
   "outputs": [],
   "source": [
    "from sklearn.tree import DecisionTreeRegressor"
   ]
  },
  {
   "cell_type": "code",
   "execution_count": 191,
   "metadata": {
    "collapsed": true
   },
   "outputs": [],
   "source": [
    "model = DecisionTreeRegressor(max_depth=8, min_samples_split=10, \n",
    "                              min_samples_leaf=3)"
   ]
  },
  {
   "cell_type": "code",
   "execution_count": 192,
   "metadata": {},
   "outputs": [
    {
     "data": {
      "text/plain": [
       "DecisionTreeRegressor(criterion='mse', max_depth=8, max_features=None,\n",
       "           max_leaf_nodes=None, min_impurity_decrease=0.0,\n",
       "           min_impurity_split=None, min_samples_leaf=3,\n",
       "           min_samples_split=10, min_weight_fraction_leaf=0.0,\n",
       "           presort=False, random_state=None, splitter='best')"
      ]
     },
     "execution_count": 192,
     "metadata": {},
     "output_type": "execute_result"
    }
   ],
   "source": [
    "model.fit(X_train, y_train)"
   ]
  },
  {
   "cell_type": "code",
   "execution_count": 194,
   "metadata": {},
   "outputs": [
    {
     "data": {
      "text/plain": [
       "array([0.54745357, 0.20843117, 0.0834658 , 0.04224252, 0.        ,\n",
       "       0.08241305, 0.        , 0.        , 0.03599389, 0.        ])"
      ]
     },
     "execution_count": 194,
     "metadata": {},
     "output_type": "execute_result"
    }
   ],
   "source": [
    "model.feature_importances_"
   ]
  },
  {
   "cell_type": "code",
   "execution_count": 198,
   "metadata": {},
   "outputs": [
    {
     "data": {
      "image/png": "[encoded data removed]",
      "text/plain": [
       "<matplotlib.figure.Figure at 0x1c1c3d2eb8>"
      ]
     },
     "metadata": {},
     "output_type": "display_data"
    }
   ],
   "source": [
    "features = X_train.columns\n",
    "importances = model.feature_importances_\n",
    "\n",
    "indices = np.argsort(importances)\n",
    "\n",
    "plt.title('Feature Importances')\n",
    "plt.barh(range(len(indices)), importances[indices], color='b', align='center')\n",
    "plt.yticks(range(len(indices)), features[indices])\n",
    "plt.xlabel('Relative Importance')\n",
    "plt.show()\n"
   ]
  },
  {
   "cell_type": "code",
   "execution_count": 199,
   "metadata": {},
   "outputs": [
    {
     "data": {
      "text/plain": [
       "Index(['hair_length', 'height', 'number_of_vet_visits', 'weight',\n",
       "       'breed_Donald', 'breed_Javanese', 'breed_Maine Coon', 'breed_Manx',\n",
       "       'breed_Rex', 'breed_Siamese'],\n",
       "      dtype='object')"
      ]
     },
     "execution_count": 199,
     "metadata": {},
     "output_type": "execute_result"
    }
   ],
   "source": [
    "features"
   ]
  },
  {
   "cell_type": "code",
   "execution_count": 200,
   "metadata": {},
   "outputs": [
    {
     "data": {
      "text/plain": [
       "array([0.54745357, 0.20843117, 0.0834658 , 0.04224252, 0.        ,\n",
       "       0.08241305, 0.        , 0.        , 0.03599389, 0.        ])"
      ]
     },
     "execution_count": 200,
     "metadata": {},
     "output_type": "execute_result"
    }
   ],
   "source": [
    "model.feature_importances_"
   ]
  },
  {
   "cell_type": "code",
   "execution_count": 201,
   "metadata": {
    "collapsed": true
   },
   "outputs": [],
   "source": [
    "y_pred = model.predict(X_test)"
   ]
  },
  {
   "cell_type": "code",
   "execution_count": 203,
   "metadata": {},
   "outputs": [
    {
     "data": {
      "text/plain": [
       "10.317354115059254"
      ]
     },
     "execution_count": 203,
     "metadata": {},
     "output_type": "execute_result"
    }
   ],
   "source": [
    "mean_squared_error(y_pred, y_test)"
   ]
  },
  {
   "cell_type": "code",
   "execution_count": 204,
   "metadata": {
    "collapsed": true
   },
   "outputs": [],
   "source": [
    "y_pred = model.predict(X_train)"
   ]
  },
  {
   "cell_type": "code",
   "execution_count": 206,
   "metadata": {},
   "outputs": [
    {
     "data": {
      "text/plain": [
       "4.72157837862872"
      ]
     },
     "execution_count": 206,
     "metadata": {},
     "output_type": "execute_result"
    }
   ],
   "source": [
    "mean_squared_error(y_pred, y_train)"
   ]
  },
  {
   "cell_type": "code",
   "execution_count": 207,
   "metadata": {},
   "outputs": [
    {
     "data": {
      "text/plain": [
       "(297, 10)"
      ]
     },
     "execution_count": 207,
     "metadata": {},
     "output_type": "execute_result"
    }
   ],
   "source": [
    "X.shape"
   ]
  },
  {
   "cell_type": "code",
   "execution_count": 208,
   "metadata": {},
   "outputs": [
    {
     "data": {
      "text/html": [
       "<div>\n",
       "<style scoped>\n",
       "    .dataframe tbody tr th:only-of-type {\n",
       "        vertical-align: middle;\n",
       "    }\n",
       "\n",
       "    .dataframe tbody tr th {\n",
       "        vertical-align: top;\n",
       "    }\n",
       "\n",
       "    .dataframe thead th {\n",
       "        text-align: right;\n",
       "    }\n",
       "</style>\n",
       "<table border=\"1\" class=\"dataframe\">\n",
       "  <thead>\n",
       "    <tr style=\"text-align: right;\">\n",
       "      <th></th>\n",
       "      <th>hair_length</th>\n",
       "      <th>height</th>\n",
       "      <th>number_of_vet_visits</th>\n",
       "      <th>weight</th>\n",
       "      <th>breed_Donald</th>\n",
       "      <th>breed_Javanese</th>\n",
       "      <th>breed_Maine Coon</th>\n",
       "      <th>breed_Manx</th>\n",
       "      <th>breed_Rex</th>\n",
       "      <th>breed_Siamese</th>\n",
       "    </tr>\n",
       "  </thead>\n",
       "  <tbody>\n",
       "    <tr>\n",
       "      <th>0</th>\n",
       "      <td>0.883886</td>\n",
       "      <td>21.611951</td>\n",
       "      <td>5</td>\n",
       "      <td>4</td>\n",
       "      <td>0</td>\n",
       "      <td>0</td>\n",
       "      <td>0</td>\n",
       "      <td>0</td>\n",
       "      <td>0</td>\n",
       "      <td>1</td>\n",
       "    </tr>\n",
       "    <tr>\n",
       "      <th>1</th>\n",
       "      <td>1.221535</td>\n",
       "      <td>26.451956</td>\n",
       "      <td>10</td>\n",
       "      <td>4</td>\n",
       "      <td>0</td>\n",
       "      <td>0</td>\n",
       "      <td>0</td>\n",
       "      <td>0</td>\n",
       "      <td>0</td>\n",
       "      <td>1</td>\n",
       "    </tr>\n",
       "    <tr>\n",
       "      <th>2</th>\n",
       "      <td>0.967718</td>\n",
       "      <td>18.540191</td>\n",
       "      <td>10</td>\n",
       "      <td>5</td>\n",
       "      <td>0</td>\n",
       "      <td>0</td>\n",
       "      <td>0</td>\n",
       "      <td>1</td>\n",
       "      <td>0</td>\n",
       "      <td>0</td>\n",
       "    </tr>\n",
       "    <tr>\n",
       "      <th>3</th>\n",
       "      <td>1.090641</td>\n",
       "      <td>16.564362</td>\n",
       "      <td>12</td>\n",
       "      <td>7</td>\n",
       "      <td>0</td>\n",
       "      <td>0</td>\n",
       "      <td>1</td>\n",
       "      <td>0</td>\n",
       "      <td>0</td>\n",
       "      <td>0</td>\n",
       "    </tr>\n",
       "    <tr>\n",
       "      <th>4</th>\n",
       "      <td>1.004712</td>\n",
       "      <td>22.535495</td>\n",
       "      <td>7</td>\n",
       "      <td>7</td>\n",
       "      <td>0</td>\n",
       "      <td>0</td>\n",
       "      <td>1</td>\n",
       "      <td>0</td>\n",
       "      <td>0</td>\n",
       "      <td>0</td>\n",
       "    </tr>\n",
       "  </tbody>\n",
       "</table>\n",
       "</div>"
      ],
      "text/plain": [
       "   hair_length     height  number_of_vet_visits  weight  breed_Donald  \\\n",
       "0     0.883886  21.611951                     5       4             0   \n",
       "1     1.221535  26.451956                    10       4             0   \n",
       "2     0.967718  18.540191                    10       5             0   \n",
       "3     1.090641  16.564362                    12       7             0   \n",
       "4     1.004712  22.535495                     7       7             0   \n",
       "\n",
       "   breed_Javanese  breed_Maine Coon  breed_Manx  breed_Rex  breed_Siamese  \n",
       "0               0                 0           0          0              1  \n",
       "1               0                 0           0          0              1  \n",
       "2               0                 0           1          0              0  \n",
       "3               0                 1           0          0              0  \n",
       "4               0                 1           0          0              0  "
      ]
     },
     "execution_count": 208,
     "metadata": {},
     "output_type": "execute_result"
    }
   ],
   "source": [
    "X.head()"
   ]
  },
  {
   "cell_type": "code",
   "execution_count": 209,
   "metadata": {},
   "outputs": [
    {
     "data": {
      "text/plain": [
       "Index(['hair_length', 'height', 'number_of_vet_visits', 'weight',\n",
       "       'breed_Donald', 'breed_Javanese', 'breed_Maine Coon', 'breed_Manx',\n",
       "       'breed_Rex', 'breed_Siamese'],\n",
       "      dtype='object')"
      ]
     },
     "execution_count": 209,
     "metadata": {},
     "output_type": "execute_result"
    }
   ],
   "source": [
    "X.columns"
   ]
  },
  {
   "cell_type": "code",
   "execution_count": 211,
   "metadata": {
    "collapsed": true
   },
   "outputs": [],
   "source": [
    "X = X[['breed_Donald', 'breed_Javanese', 'breed_Maine Coon', 'breed_Manx',\n",
    "       'breed_Rex', 'breed_Siamese']]"
   ]
  },
  {
   "cell_type": "code",
   "execution_count": 212,
   "metadata": {},
   "outputs": [
    {
     "data": {
      "text/plain": [
       "(297, 6)"
      ]
     },
     "execution_count": 212,
     "metadata": {},
     "output_type": "execute_result"
    }
   ],
   "source": [
    "X.shape"
   ]
  },
  {
   "cell_type": "code",
   "execution_count": 213,
   "metadata": {},
   "outputs": [
    {
     "data": {
      "text/plain": [
       "(297,)"
      ]
     },
     "execution_count": 213,
     "metadata": {},
     "output_type": "execute_result"
    }
   ],
   "source": [
    "y.shape"
   ]
  },
  {
   "cell_type": "code",
   "execution_count": 214,
   "metadata": {
    "collapsed": true
   },
   "outputs": [],
   "source": [
    "X_train, X_test, y_train, y_test = train_test_split(X, y, test_size=0.33, random_state=42)"
   ]
  },
  {
   "cell_type": "code",
   "execution_count": 215,
   "metadata": {
    "collapsed": true
   },
   "outputs": [],
   "source": [
    "model = sm.OLS(y_train, X_train).fit()"
   ]
  },
  {
   "cell_type": "code",
   "execution_count": 216,
   "metadata": {},
   "outputs": [
    {
     "data": {
      "text/html": [
       "<table class=\"simpletable\">\n",
       "<caption>OLS Regression Results</caption>\n",
       "<tr>\n",
       "  <th>Dep. Variable:</th>      <td>age_at_death</td>   <th>  R-squared:         </th> <td>   0.020</td>\n",
       "</tr>\n",
       "<tr>\n",
       "  <th>Model:</th>                   <td>OLS</td>       <th>  Adj. R-squared:    </th> <td>  -0.005</td>\n",
       "</tr>\n",
       "<tr>\n",
       "  <th>Method:</th>             <td>Least Squares</td>  <th>  F-statistic:       </th> <td>  0.7922</td>\n",
       "</tr>\n",
       "<tr>\n",
       "  <th>Date:</th>             <td>Fri, 11 May 2018</td> <th>  Prob (F-statistic):</th>  <td> 0.556</td> \n",
       "</tr>\n",
       "<tr>\n",
       "  <th>Time:</th>                 <td>14:53:36</td>     <th>  Log-Likelihood:    </th> <td> -494.38</td>\n",
       "</tr>\n",
       "<tr>\n",
       "  <th>No. Observations:</th>      <td>   198</td>      <th>  AIC:               </th> <td>   1001.</td>\n",
       "</tr>\n",
       "<tr>\n",
       "  <th>Df Residuals:</th>          <td>   192</td>      <th>  BIC:               </th> <td>   1020.</td>\n",
       "</tr>\n",
       "<tr>\n",
       "  <th>Df Model:</th>              <td>     5</td>      <th>                     </th>     <td> </td>   \n",
       "</tr>\n",
       "<tr>\n",
       "  <th>Covariance Type:</th>      <td>nonrobust</td>    <th>                     </th>     <td> </td>   \n",
       "</tr>\n",
       "</table>\n",
       "<table class=\"simpletable\">\n",
       "<tr>\n",
       "          <td></td>            <th>coef</th>     <th>std err</th>      <th>t</th>      <th>P>|t|</th>  <th>[0.025</th>    <th>0.975]</th>  \n",
       "</tr>\n",
       "<tr>\n",
       "  <th>breed_Donald</th>     <td>   14.0000</td> <td>    2.984</td> <td>    4.692</td> <td> 0.000</td> <td>    8.114</td> <td>   19.886</td>\n",
       "</tr>\n",
       "<tr>\n",
       "  <th>breed_Javanese</th>   <td>    9.2258</td> <td>    0.536</td> <td>   17.214</td> <td> 0.000</td> <td>    8.169</td> <td>   10.283</td>\n",
       "</tr>\n",
       "<tr>\n",
       "  <th>breed_Maine Coon</th> <td>    9.1463</td> <td>    0.466</td> <td>   19.626</td> <td> 0.000</td> <td>    8.227</td> <td>   10.066</td>\n",
       "</tr>\n",
       "<tr>\n",
       "  <th>breed_Manx</th>       <td>    9.0769</td> <td>    0.478</td> <td>   18.996</td> <td> 0.000</td> <td>    8.134</td> <td>   10.019</td>\n",
       "</tr>\n",
       "<tr>\n",
       "  <th>breed_Rex</th>        <td>    9.1837</td> <td>    0.426</td> <td>   21.543</td> <td> 0.000</td> <td>    8.343</td> <td>   10.025</td>\n",
       "</tr>\n",
       "<tr>\n",
       "  <th>breed_Siamese</th>    <td>    8.5676</td> <td>    0.491</td> <td>   17.464</td> <td> 0.000</td> <td>    7.600</td> <td>    9.535</td>\n",
       "</tr>\n",
       "</table>\n",
       "<table class=\"simpletable\">\n",
       "<tr>\n",
       "  <th>Omnibus:</th>       <td> 4.622</td> <th>  Durbin-Watson:     </th> <td>   2.057</td>\n",
       "</tr>\n",
       "<tr>\n",
       "  <th>Prob(Omnibus):</th> <td> 0.099</td> <th>  Jarque-Bera (JB):  </th> <td>   4.247</td>\n",
       "</tr>\n",
       "<tr>\n",
       "  <th>Skew:</th>          <td> 0.344</td> <th>  Prob(JB):          </th> <td>   0.120</td>\n",
       "</tr>\n",
       "<tr>\n",
       "  <th>Kurtosis:</th>      <td> 3.206</td> <th>  Cond. No.          </th> <td>    7.00</td>\n",
       "</tr>\n",
       "</table>"
      ],
      "text/plain": [
       "<class 'statsmodels.iolib.summary.Summary'>\n",
       "\"\"\"\n",
       "                            OLS Regression Results                            \n",
       "==============================================================================\n",
       "Dep. Variable:           age_at_death   R-squared:                       0.020\n",
       "Model:                            OLS   Adj. R-squared:                 -0.005\n",
       "Method:                 Least Squares   F-statistic:                    0.7922\n",
       "Date:                Fri, 11 May 2018   Prob (F-statistic):              0.556\n",
       "Time:                        14:53:36   Log-Likelihood:                -494.38\n",
       "No. Observations:                 198   AIC:                             1001.\n",
       "Df Residuals:                     192   BIC:                             1020.\n",
       "Df Model:                           5                                         \n",
       "Covariance Type:            nonrobust                                         \n",
       "====================================================================================\n",
       "                       coef    std err          t      P>|t|      [0.025      0.975]\n",
       "------------------------------------------------------------------------------------\n",
       "breed_Donald        14.0000      2.984      4.692      0.000       8.114      19.886\n",
       "breed_Javanese       9.2258      0.536     17.214      0.000       8.169      10.283\n",
       "breed_Maine Coon     9.1463      0.466     19.626      0.000       8.227      10.066\n",
       "breed_Manx           9.0769      0.478     18.996      0.000       8.134      10.019\n",
       "breed_Rex            9.1837      0.426     21.543      0.000       8.343      10.025\n",
       "breed_Siamese        8.5676      0.491     17.464      0.000       7.600       9.535\n",
       "==============================================================================\n",
       "Omnibus:                        4.622   Durbin-Watson:                   2.057\n",
       "Prob(Omnibus):                  0.099   Jarque-Bera (JB):                4.247\n",
       "Skew:                           0.344   Prob(JB):                        0.120\n",
       "Kurtosis:                       3.206   Cond. No.                         7.00\n",
       "==============================================================================\n",
       "\n",
       "Warnings:\n",
       "[1] Standard Errors assume that the covariance matrix of the errors is correctly specified.\n",
       "\"\"\""
      ]
     },
     "execution_count": 216,
     "metadata": {},
     "output_type": "execute_result"
    }
   ],
   "source": [
    "model.summary()"
   ]
  },
  {
   "cell_type": "code",
   "execution_count": 217,
   "metadata": {
    "collapsed": true
   },
   "outputs": [],
   "source": [
    "y_pred = model.predict(X_train)"
   ]
  },
  {
   "cell_type": "code",
   "execution_count": 218,
   "metadata": {},
   "outputs": [
    {
     "data": {
      "text/plain": [
       "8.63504321557598"
      ]
     },
     "execution_count": 218,
     "metadata": {},
     "output_type": "execute_result"
    }
   ],
   "source": [
    "mean_squared_error(y_pred, y_train)"
   ]
  },
  {
   "cell_type": "code",
   "execution_count": 219,
   "metadata": {},
   "outputs": [
    {
     "data": {
      "text/plain": [
       "8.81645863800746"
      ]
     },
     "execution_count": 219,
     "metadata": {},
     "output_type": "execute_result"
    }
   ],
   "source": [
    "mean_squared_error(np.full(y_train.shape, y.mean()), y_train)"
   ]
  },
  {
   "cell_type": "code",
   "execution_count": 220,
   "metadata": {
    "collapsed": true
   },
   "outputs": [],
   "source": [
    "y_pred = model.predict(X_test)"
   ]
  },
  {
   "cell_type": "code",
   "execution_count": 221,
   "metadata": {},
   "outputs": [
    {
     "data": {
      "text/plain": [
       "7.593733734562666"
      ]
     },
     "execution_count": 221,
     "metadata": {},
     "output_type": "execute_result"
    }
   ],
   "source": [
    "mean_squared_error(y_pred, y_test)"
   ]
  },
  {
   "cell_type": "code",
   "execution_count": 222,
   "metadata": {},
   "outputs": [
    {
     "data": {
      "text/plain": [
       "7.457447652733848"
      ]
     },
     "execution_count": 222,
     "metadata": {},
     "output_type": "execute_result"
    }
   ],
   "source": [
    "mean_squared_error(np.full(y_test.shape, y.mean()), y_test)"
   ]
  },
  {
   "cell_type": "code",
   "execution_count": 223,
   "metadata": {
    "collapsed": true
   },
   "outputs": [],
   "source": [
    "model = DecisionTreeRegressor(max_depth=6, min_samples_split=5, \n",
    "                              min_samples_leaf=2)"
   ]
  },
  {
   "cell_type": "code",
   "execution_count": 224,
   "metadata": {},
   "outputs": [
    {
     "data": {
      "text/plain": [
       "DecisionTreeRegressor(criterion='mse', max_depth=6, max_features=None,\n",
       "           max_leaf_nodes=None, min_impurity_decrease=0.0,\n",
       "           min_impurity_split=None, min_samples_leaf=2,\n",
       "           min_samples_split=5, min_weight_fraction_leaf=0.0,\n",
       "           presort=False, random_state=None, splitter='best')"
      ]
     },
     "execution_count": 224,
     "metadata": {},
     "output_type": "execute_result"
    }
   ],
   "source": [
    "model.fit(X_train, y_train)"
   ]
  },
  {
   "cell_type": "code",
   "execution_count": 225,
   "metadata": {},
   "outputs": [
    {
     "data": {
      "image/png": "[encoded data removed]",
      "text/plain": [
       "<matplotlib.figure.Figure at 0x1c1c40c630>"
      ]
     },
     "metadata": {},
     "output_type": "display_data"
    }
   ],
   "source": [
    "features = X_train.columns\n",
    "importances = model.feature_importances_\n",
    "\n",
    "indices = np.argsort(importances)\n",
    "\n",
    "plt.title('Feature Importances')\n",
    "plt.barh(range(len(indices)), importances[indices], color='b', align='center')\n",
    "plt.yticks(range(len(indices)), features[indices])\n",
    "plt.xlabel('Relative Importance')\n",
    "plt.show()\n"
   ]
  },
  {
   "cell_type": "code",
   "execution_count": 226,
   "metadata": {},
   "outputs": [
    {
     "data": {
      "text/plain": [
       "8.746561625481485"
      ]
     },
     "execution_count": 226,
     "metadata": {},
     "output_type": "execute_result"
    }
   ],
   "source": [
    "y_pred = model.predict(X_train)\n",
    "mean_squared_error(y_pred, y_train)"
   ]
  },
  {
   "cell_type": "code",
   "execution_count": 228,
   "metadata": {},
   "outputs": [
    {
     "data": {
      "text/plain": [
       "8.81645863800746"
      ]
     },
     "execution_count": 228,
     "metadata": {},
     "output_type": "execute_result"
    }
   ],
   "source": [
    "mean_squared_error(np.full(y_train.shape, y.mean()), y_train)"
   ]
  },
  {
   "cell_type": "code",
   "execution_count": 227,
   "metadata": {},
   "outputs": [
    {
     "data": {
      "text/plain": [
       "7.669418226463989"
      ]
     },
     "execution_count": 227,
     "metadata": {},
     "output_type": "execute_result"
    }
   ],
   "source": [
    "y_pred = model.predict(X_test)\n",
    "mean_squared_error(y_pred, y_test)"
   ]
  },
  {
   "cell_type": "code",
   "execution_count": 229,
   "metadata": {},
   "outputs": [
    {
     "data": {
      "text/plain": [
       "7.457447652733848"
      ]
     },
     "execution_count": 229,
     "metadata": {},
     "output_type": "execute_result"
    }
   ],
   "source": [
    "mean_squared_error(np.full(y_test.shape, y.mean()), y_test)"
   ]
  },
  {
   "cell_type": "code",
   "execution_count": 230,
   "metadata": {},
   "outputs": [
    {
     "data": {
      "text/plain": [
       "Index(['breed_Donald', 'breed_Javanese', 'breed_Maine Coon', 'breed_Manx',\n",
       "       'breed_Rex', 'breed_Siamese'],\n",
       "      dtype='object')"
      ]
     },
     "execution_count": 230,
     "metadata": {},
     "output_type": "execute_result"
    }
   ],
   "source": [
    "X_train.columns"
   ]
  },
  {
   "cell_type": "code",
   "execution_count": 234,
   "metadata": {},
   "outputs": [
    {
     "data": {
      "text/plain": [
       "(39, 6)"
      ]
     },
     "execution_count": 234,
     "metadata": {},
     "output_type": "execute_result"
    }
   ],
   "source": [
    "X_train[X_train[\"breed_Manx\"] == 1].shape"
   ]
  },
  {
   "cell_type": "code",
   "execution_count": 235,
   "metadata": {
    "collapsed": true
   },
   "outputs": [],
   "source": [
    "X = X[['breed_Manx', 'breed_Rex', 'breed_Siamese']]"
   ]
  },
  {
   "cell_type": "code",
   "execution_count": 243,
   "metadata": {
    "collapsed": true
   },
   "outputs": [],
   "source": [
    "Other_breed = X[\"breed_Manx\"] + X[\"breed_Rex\"] + X[\"breed_Siamese\"]"
   ]
  },
  {
   "cell_type": "code",
   "execution_count": 244,
   "metadata": {},
   "outputs": [
    {
     "data": {
      "text/plain": [
       "0.5757575757575758"
      ]
     },
     "execution_count": 244,
     "metadata": {},
     "output_type": "execute_result"
    }
   ],
   "source": [
    "Other_breed.mean()"
   ]
  },
  {
   "cell_type": "code",
   "execution_count": 246,
   "metadata": {},
   "outputs": [
    {
     "data": {
      "text/plain": [
       "0"
      ]
     },
     "execution_count": 246,
     "metadata": {},
     "output_type": "execute_result"
    }
   ],
   "source": [
    "Other_breed.min()"
   ]
  },
  {
   "cell_type": "code",
   "execution_count": 247,
   "metadata": {
    "collapsed": true
   },
   "outputs": [],
   "source": [
    "Other_breed = np.where(Other_breed == 1, 0, 1)"
   ]
  },
  {
   "cell_type": "code",
   "execution_count": 248,
   "metadata": {
    "collapsed": true
   },
   "outputs": [],
   "source": [
    "X[\"Other_breed\"] = Other_breed"
   ]
  },
  {
   "cell_type": "code",
   "execution_count": 249,
   "metadata": {
    "collapsed": true
   },
   "outputs": [],
   "source": [
    "X_train, X_test, y_train, y_test = train_test_split(X, y, test_size=0.33, random_state=42)"
   ]
  },
  {
   "cell_type": "code",
   "execution_count": 250,
   "metadata": {
    "collapsed": true
   },
   "outputs": [],
   "source": [
    "model = sm.OLS(y_train, X_train).fit()"
   ]
  },
  {
   "cell_type": "code",
   "execution_count": 251,
   "metadata": {},
   "outputs": [
    {
     "data": {
      "text/html": [
       "<table class=\"simpletable\">\n",
       "<caption>OLS Regression Results</caption>\n",
       "<tr>\n",
       "  <th>Dep. Variable:</th>      <td>age_at_death</td>   <th>  R-squared:         </th> <td>   0.007</td>\n",
       "</tr>\n",
       "<tr>\n",
       "  <th>Model:</th>                   <td>OLS</td>       <th>  Adj. R-squared:    </th> <td>  -0.008</td>\n",
       "</tr>\n",
       "<tr>\n",
       "  <th>Method:</th>             <td>Least Squares</td>  <th>  F-statistic:       </th> <td>  0.4572</td>\n",
       "</tr>\n",
       "<tr>\n",
       "  <th>Date:</th>             <td>Fri, 11 May 2018</td> <th>  Prob (F-statistic):</th>  <td> 0.713</td> \n",
       "</tr>\n",
       "<tr>\n",
       "  <th>Time:</th>                 <td>15:22:58</td>     <th>  Log-Likelihood:    </th> <td> -495.70</td>\n",
       "</tr>\n",
       "<tr>\n",
       "  <th>No. Observations:</th>      <td>   198</td>      <th>  AIC:               </th> <td>   999.4</td>\n",
       "</tr>\n",
       "<tr>\n",
       "  <th>Df Residuals:</th>          <td>   194</td>      <th>  BIC:               </th> <td>   1013.</td>\n",
       "</tr>\n",
       "<tr>\n",
       "  <th>Df Model:</th>              <td>     3</td>      <th>                     </th>     <td> </td>   \n",
       "</tr>\n",
       "<tr>\n",
       "  <th>Covariance Type:</th>      <td>nonrobust</td>    <th>                     </th>     <td> </td>   \n",
       "</tr>\n",
       "</table>\n",
       "<table class=\"simpletable\">\n",
       "<tr>\n",
       "        <td></td>           <th>coef</th>     <th>std err</th>      <th>t</th>      <th>P>|t|</th>  <th>[0.025</th>    <th>0.975]</th>  \n",
       "</tr>\n",
       "<tr>\n",
       "  <th>breed_Manx</th>    <td>    9.0769</td> <td>    0.479</td> <td>   18.967</td> <td> 0.000</td> <td>    8.133</td> <td>   10.021</td>\n",
       "</tr>\n",
       "<tr>\n",
       "  <th>breed_Rex</th>     <td>    9.1837</td> <td>    0.427</td> <td>   21.510</td> <td> 0.000</td> <td>    8.342</td> <td>   10.026</td>\n",
       "</tr>\n",
       "<tr>\n",
       "  <th>breed_Siamese</th> <td>    8.5676</td> <td>    0.491</td> <td>   17.438</td> <td> 0.000</td> <td>    7.599</td> <td>    9.537</td>\n",
       "</tr>\n",
       "<tr>\n",
       "  <th>Other_breed</th>   <td>    9.2466</td> <td>    0.350</td> <td>   26.435</td> <td> 0.000</td> <td>    8.557</td> <td>    9.936</td>\n",
       "</tr>\n",
       "</table>\n",
       "<table class=\"simpletable\">\n",
       "<tr>\n",
       "  <th>Omnibus:</th>       <td> 4.280</td> <th>  Durbin-Watson:     </th> <td>   2.067</td>\n",
       "</tr>\n",
       "<tr>\n",
       "  <th>Prob(Omnibus):</th> <td> 0.118</td> <th>  Jarque-Bera (JB):  </th> <td>   3.957</td>\n",
       "</tr>\n",
       "<tr>\n",
       "  <th>Skew:</th>          <td> 0.339</td> <th>  Prob(JB):          </th> <td>   0.138</td>\n",
       "</tr>\n",
       "<tr>\n",
       "  <th>Kurtosis:</th>      <td> 3.144</td> <th>  Cond. No.          </th> <td>    1.40</td>\n",
       "</tr>\n",
       "</table>"
      ],
      "text/plain": [
       "<class 'statsmodels.iolib.summary.Summary'>\n",
       "\"\"\"\n",
       "                            OLS Regression Results                            \n",
       "==============================================================================\n",
       "Dep. Variable:           age_at_death   R-squared:                       0.007\n",
       "Model:                            OLS   Adj. R-squared:                 -0.008\n",
       "Method:                 Least Squares   F-statistic:                    0.4572\n",
       "Date:                Fri, 11 May 2018   Prob (F-statistic):              0.713\n",
       "Time:                        15:22:58   Log-Likelihood:                -495.70\n",
       "No. Observations:                 198   AIC:                             999.4\n",
       "Df Residuals:                     194   BIC:                             1013.\n",
       "Df Model:                           3                                         \n",
       "Covariance Type:            nonrobust                                         \n",
       "=================================================================================\n",
       "                    coef    std err          t      P>|t|      [0.025      0.975]\n",
       "---------------------------------------------------------------------------------\n",
       "breed_Manx        9.0769      0.479     18.967      0.000       8.133      10.021\n",
       "breed_Rex         9.1837      0.427     21.510      0.000       8.342      10.026\n",
       "breed_Siamese     8.5676      0.491     17.438      0.000       7.599       9.537\n",
       "Other_breed       9.2466      0.350     26.435      0.000       8.557       9.936\n",
       "==============================================================================\n",
       "Omnibus:                        4.280   Durbin-Watson:                   2.067\n",
       "Prob(Omnibus):                  0.118   Jarque-Bera (JB):                3.957\n",
       "Skew:                           0.339   Prob(JB):                        0.138\n",
       "Kurtosis:                       3.144   Cond. No.                         1.40\n",
       "==============================================================================\n",
       "\n",
       "Warnings:\n",
       "[1] Standard Errors assume that the covariance matrix of the errors is correctly specified.\n",
       "\"\"\""
      ]
     },
     "execution_count": 251,
     "metadata": {},
     "output_type": "execute_result"
    }
   ],
   "source": [
    "model.summary()"
   ]
  },
  {
   "cell_type": "code",
   "execution_count": 252,
   "metadata": {},
   "outputs": [
    {
     "data": {
      "text/plain": [
       "8.751307547785043"
      ]
     },
     "execution_count": 252,
     "metadata": {},
     "output_type": "execute_result"
    }
   ],
   "source": [
    "y_pred = model.predict(X_train)\n",
    "mean_squared_error(y_pred, y_train)"
   ]
  },
  {
   "cell_type": "code",
   "execution_count": 253,
   "metadata": {},
   "outputs": [
    {
     "data": {
      "text/plain": [
       "8.81645863800746"
      ]
     },
     "execution_count": 253,
     "metadata": {},
     "output_type": "execute_result"
    }
   ],
   "source": [
    "mean_squared_error(np.full(y_train.shape, y.mean()), y_train)"
   ]
  },
  {
   "cell_type": "code",
   "execution_count": 254,
   "metadata": {},
   "outputs": [
    {
     "data": {
      "text/plain": [
       "7.6260348925732595"
      ]
     },
     "execution_count": 254,
     "metadata": {},
     "output_type": "execute_result"
    }
   ],
   "source": [
    "y_pred = model.predict(X_test)\n",
    "mean_squared_error(y_pred, y_test)"
   ]
  },
  {
   "cell_type": "code",
   "execution_count": 255,
   "metadata": {},
   "outputs": [
    {
     "data": {
      "text/plain": [
       "7.457447652733848"
      ]
     },
     "execution_count": 255,
     "metadata": {},
     "output_type": "execute_result"
    }
   ],
   "source": [
    "mean_squared_error(np.full(y_test.shape, y.mean()), y_test)"
   ]
  },
  {
   "cell_type": "code",
   "execution_count": null,
   "metadata": {
    "collapsed": true
   },
   "outputs": [],
   "source": []
  }
 ],
 "metadata": {
  "kernelspec": {
   "display_name": "Python 3",
   "language": "python",
   "name": "python3"
  },
  "language_info": {
   "codemirror_mode": {
    "name": "ipython",
    "version": 3
   },
   "file_extension": ".py",
   "mimetype": "text/x-python",
   "name": "python",
   "nbconvert_exporter": "python",
   "pygments_lexer": "ipython3",
   "version": "3.5.3"
  }
 },
 "nbformat": 4,
 "nbformat_minor": 2
}
